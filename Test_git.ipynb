{
 "cells": [
  {
   "cell_type": "code",
   "execution_count": 1,
   "id": "5b0af095",
   "metadata": {},
   "outputs": [
    {
     "data": {
      "text/plain": [
       "'/Users/saumyapandey'"
      ]
     },
     "execution_count": 1,
     "metadata": {},
     "output_type": "execute_result"
    }
   ],
   "source": [
    "pwd"
   ]
  },
  {
   "cell_type": "code",
   "execution_count": 2,
   "id": "c4a6ebad",
   "metadata": {},
   "outputs": [
    {
     "name": "stdout",
     "output_type": "stream",
     "text": [
      "/Users/saumyapandey/Documents\n"
     ]
    }
   ],
   "source": [
    "cd /Users/saumyapandey/Documents\n"
   ]
  },
  {
   "cell_type": "code",
   "execution_count": 3,
   "id": "beb11efd",
   "metadata": {},
   "outputs": [
    {
     "data": {
      "text/plain": [
       "'/Users/saumyapandey/Documents'"
      ]
     },
     "execution_count": 3,
     "metadata": {},
     "output_type": "execute_result"
    }
   ],
   "source": [
    "pwd\n"
   ]
  },
  {
   "cell_type": "code",
   "execution_count": 4,
   "id": "7c56e115",
   "metadata": {},
   "outputs": [
    {
     "name": "stdout",
     "output_type": "stream",
     "text": [
      "total 2488\r\n",
      "drwxr-xr-x   6 saumyapandey  staff     192 Jun 19  2020 \u001b[34mCFA - 365 \u001b[m\u001b[m/\r\n",
      "drwxr-xr-x   4 saumyapandey  staff     128 Jun 27  2020 \u001b[34mSQL-Oriely\u001b[m\u001b[m/\r\n",
      "drwxr-xr-x   7 saumyapandey  staff     224 Jun 28  2020 \u001b[34mPandas- Udemy\u001b[m\u001b[m/\r\n",
      "-rwxr-xr-x@  1 saumyapandey  staff  902737 Jul  4  2020 \u001b[31mintermediate_sql_class_notes.pages\u001b[m\u001b[m*\r\n",
      "drwxr-xr-x   5 saumyapandey  staff     160 Jul  4  2020 \u001b[34mUdemy-Web\u001b[m\u001b[m/\r\n",
      "drwxr-xr-x   4 saumyapandey  staff     128 Jul 14  2020 \u001b[34mPython- Orielly\u001b[m\u001b[m/\r\n",
      "drwxr-xr-x   5 saumyapandey  staff     160 Jul 14  2020 \u001b[34mOrielly-OOP\u001b[m\u001b[m/\r\n",
      "drwxr-xr-x@  2 saumyapandey  staff      64 Oct  4  2020 \u001b[34mWebEx\u001b[m\u001b[m/\r\n",
      "-rw-r--r--@  1 saumyapandey  staff  320566 Jan 21  2021 unzip+this+and+open+project+in+intellij.zip\r\n",
      "drwxr-xr-x   4 saumyapandey  staff     128 Jan 22  2021 \u001b[34mScala-Learning1\u001b[m\u001b[m/\r\n",
      "drwxr-xr-x   3 saumyapandey  staff      96 Jan 22  2021 \u001b[34mScala-Learning\u001b[m\u001b[m/\r\n",
      "drwxr-xr-x@  2 saumyapandey  staff      64 Oct  5 20:26 \u001b[34mZoom\u001b[m\u001b[m/\r\n",
      "-rw-r--r--@  1 saumyapandey  staff     412 Oct 10 20:33 Octave.app.scpt\r\n",
      "drwxr-xr-x   7 saumyapandey  staff     224 Oct 23 18:22 \u001b[34mPython-JoseUdemy\u001b[m\u001b[m/\r\n",
      "drwxr-xr-x   6 saumyapandey  staff     192 Nov 20 20:13 \u001b[34mFastAPI\u001b[m\u001b[m/\r\n",
      "drwxr-xr-x   2 saumyapandey  staff      64 Nov 27 10:15 \u001b[34mineuron\u001b[m\u001b[m/\r\n",
      "drwxrwxr-x@ 22 saumyapandey  staff     704 Nov 28 16:19 \u001b[34mMaster-Math-by-Coding-in-Python-main\u001b[m\u001b[m/\r\n"
     ]
    }
   ],
   "source": [
    "ls -ltr"
   ]
  },
  {
   "cell_type": "code",
   "execution_count": 5,
   "id": "678be41e",
   "metadata": {},
   "outputs": [
    {
     "name": "stdout",
     "output_type": "stream",
     "text": [
      "/Users/saumyapandey/Documents/ineuron\n"
     ]
    }
   ],
   "source": [
    "cd ineuron\n"
   ]
  },
  {
   "cell_type": "code",
   "execution_count": null,
   "id": "15fb9bad",
   "metadata": {},
   "outputs": [],
   "source": []
  }
 ],
 "metadata": {
  "kernelspec": {
   "display_name": "Python 3 (ipykernel)",
   "language": "python",
   "name": "python3"
  },
  "language_info": {
   "codemirror_mode": {
    "name": "ipython",
    "version": 3
   },
   "file_extension": ".py",
   "mimetype": "text/x-python",
   "name": "python",
   "nbconvert_exporter": "python",
   "pygments_lexer": "ipython3",
   "version": "3.9.7"
  }
 },
 "nbformat": 4,
 "nbformat_minor": 5
}
