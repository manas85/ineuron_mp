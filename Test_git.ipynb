{
 "cells": [
  {
   "cell_type": "code",
   "execution_count": null,
   "id": "1ca7d5eb",
   "metadata": {},
   "outputs": [],
   "source": [
    "pwd"
   ]
  },
  {
   "cell_type": "code",
   "execution_count": null,
   "id": "79b0d4a2",
   "metadata": {},
   "outputs": [],
   "source": [
    "cd /Users/saumyapandey/Documents\n"
   ]
  },
  {
   "cell_type": "code",
   "execution_count": null,
   "id": "010741e8",
   "metadata": {},
   "outputs": [],
   "source": [
    "pwd\n"
   ]
  },
  {
   "cell_type": "code",
   "execution_count": null,
   "id": "ae1f708d",
   "metadata": {},
   "outputs": [],
   "source": [
    "ls -ltr"
   ]
  },
  {
   "cell_type": "code",
   "execution_count": null,
   "id": "306cf65f",
   "metadata": {},
   "outputs": [],
   "source": [
    "cd ineuron\n"
   ]
  },
  {
   "cell_type": "code",
   "execution_count": null,
   "id": "19a0e42e",
   "metadata": {},
   "outputs": [],
   "source": []
  }
 ],
 "metadata": {
  "kernelspec": {
   "display_name": "Python 3 (ipykernel)",
   "language": "python",
   "name": "python3"
  },
  "language_info": {
   "codemirror_mode": {
    "name": "ipython",
    "version": 3
   },
   "file_extension": ".py",
   "mimetype": "text/x-python",
   "name": "python",
   "nbconvert_exporter": "python",
   "pygments_lexer": "ipython3",
   "version": "3.9.7"
  }
 },
 "nbformat": 4,
 "nbformat_minor": 5
}
